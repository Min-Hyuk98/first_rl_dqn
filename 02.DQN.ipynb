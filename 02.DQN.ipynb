{
 "cells": [
  {
   "cell_type": "code",
   "execution_count": 1,
   "metadata": {},
   "outputs": [],
   "source": [
    "import torch\n",
    "import torch.nn as nn\n",
    "import torch.autograd as autograd\n",
    "import torch.nn.functional as F\n",
    "from numpy import random as rnd\n",
    "import random\n",
    "from matplotlib import pyplot as plt\n",
    "import numpy as np"
   ]
  },
  {
   "cell_type": "code",
   "execution_count": 2,
   "metadata": {},
   "outputs": [],
   "source": [
    "class Environment():\n",
    "    \"\"\"\n",
    "        A generalizable class for board environments for Qlearning agents\n",
    "    \"\"\"\n",
    "    board = None\n",
    "    board_size = 0\n",
    "    def __init__(self, board_size=4):\n",
    "        self.board_size = board_size\n",
    "        self.game_over = False\n",
    "        self.terminal_state = np.ones(4).astype(int)\n",
    "        self.reset()\n",
    "    \n",
    "    def reset(self): # new game\n",
    "        self.state = np.zeros(self.board_size).astype(int) # [0,0,0,0,...0]: an empty board\n",
    "        self.game_over = False\n",
    "    \n",
    "    def execute_action(self, action): # execute the agent's action\n",
    "        if self.state[action] == 0:\n",
    "            self.state[action] = 1\n",
    "            self.game_over = (len(np.where(self.state == 0)[0]) == 0)\n",
    "            return 1\n",
    "        else:\n",
    "            return -1\n"
   ]
  },
  {
   "cell_type": "code",
   "execution_count": 3,
   "metadata": {},
   "outputs": [],
   "source": [
    "class DQN(nn.Module):\n",
    "    def __init__(self, envstate_dim, action_dim):\n",
    "        super(DQN, self).__init__()\n",
    "        self.input_dim = envstate_dim # 4\n",
    "        self.output_dim = action_dim  # 4\n",
    "        self.ff = nn.Sequential(\n",
    "            nn.Linear(self.input_dim, 64),\n",
    "            nn.ReLU(),\n",
    "            nn.Linear(64, 124),\n",
    "            nn.ReLU(),\n",
    "            nn.Linear(124, 64),\n",
    "            nn.ReLU(),\n",
    "            nn.Linear(64, self.output_dim),\n",
    "        )\n",
    "    \n",
    "    def forward(self, state):\n",
    "        qvals = self.ff(state)\n",
    "        return qvals\n"
   ]
  },
  {
   "cell_type": "code",
   "execution_count": 4,
   "metadata": {},
   "outputs": [],
   "source": [
    "# replay buffers implemented as lists. this is actually recommended by Python over Deques for random retrieval\n",
    "class Buffer():\n",
    "    def __init__(self):\n",
    "        self.buffer = []\n",
    "        \n",
    "    def size(self):\n",
    "        return len(self.buffer)\n",
    "        \n",
    "    # add a memory\n",
    "    def push(self,state,action,new_state,reward):\n",
    "        experience = (state,action,new_state,reward)\n",
    "        self.buffer.append(experience)\n",
    "    \n",
    "    # take a random sample to perform learning on decorrelated transitions\n",
    "    def sample(self,batch_size):\n",
    "        batchSample = random.sample(self.buffer,batch_size)\n",
    "        # now need to put everyone in the correct columns\n",
    "        state_batch = []\n",
    "        action_batch = []\n",
    "        new_state_batch = []\n",
    "        reward_batch = []\n",
    "        \n",
    "        # prepare the batch sample for training\n",
    "        for experience in batchSample:\n",
    "            state,action,new_state,reward = experience\n",
    "            state_batch.append(state)\n",
    "            action_batch.append(action)\n",
    "            new_state_batch.append(new_state)\n",
    "            reward_batch.append(reward)\n",
    "        return (state_batch, action_batch, reward_batch, new_state_batch)"
   ]
  },
  {
   "cell_type": "code",
   "execution_count": 5,
   "metadata": {},
   "outputs": [],
   "source": [
    "# a class for agents that use feedforward neural networks to calculate Q(s,a)\n",
    "class DeepAgent():\n",
    "    def __init__(self, board_size):\n",
    "        self.policy_net = DQN(board_size,board_size) # network used to calculate policy\n",
    "        self.target_net = DQN(board_size,board_size) # network used to calculate target\n",
    "        self.target_net.eval() # throw that baby in eval mode because we don't care about its gradients\n",
    "        self.target_update = 50 # update our target network ever 50 timesteps\n",
    "        self.replay_buffer = Buffer() # replay buffer implemented as a list\n",
    "        self.eps_start = 0.1 # initial exploration rate\n",
    "        self.eps_end = 0.95 # ultimate exploration value\n",
    "        self.eps_decay = 300 # decay parameter for exploration rate\n",
    "        self.epsilon = self.eps_start # initialize epsilon\n",
    "        self.gamma = 0.99 # discount\n",
    "        \n",
    "        self.optimizer = torch.optim.SGD(self.policy_net.parameters(),lr=0.01, momentum=0.9)\n",
    "#         self.optimizer = torch.optim.RMSprop(self.policy_net.parameters()) # experiment w/ different optimizers\n",
    "#         self.optimizer = torch.optim.Adam(self.policy_net.parameters())\n",
    "        self.huber_loss = F.smooth_l1_loss\n",
    "        \n",
    "    def select_action(self,state):\n",
    "        state = torch.FloatTensor(state).float()\n",
    "        if rnd.rand() < self.epsilon: # greedy action\n",
    "            with torch.no_grad(): \n",
    "                qvals = self.policy_net.forward(state) # forward run through the policy network\n",
    "                action = np.argmax(qvals.detach().numpy()) # need to detach from auto_grad before sending to numpy\n",
    "        else:\n",
    "            action = random.choice(list(range(board_size)))\n",
    "        return action\n",
    "    \n",
    "    def update(self, batch_size):\n",
    "        if self.replay_buffer.size() < batch_size:\n",
    "            return\n",
    "        batch = self.replay_buffer.sample(batch_size)\n",
    "        \n",
    "        self.optimizer.zero_grad() # zero_grad before computing loss\n",
    "        \n",
    "        loss = self.compute_loss(batch)\n",
    "\n",
    "        loss.backward() # get the gradients\n",
    "        \n",
    "        for param in self.policy_net.parameters():\n",
    "            param.grad.data.clamp_(-1, 1)\n",
    "            \n",
    "        self.optimizer.step() # backpropagate\n",
    "        \n",
    "        return loss\n",
    "        \n",
    "    def compute_loss(self, batch):\n",
    "        states, actions, rewards, next_states = batch\n",
    "        states = torch.FloatTensor(states)\n",
    "        actions = torch.LongTensor(actions)\n",
    "        rewards = torch.FloatTensor(rewards)\n",
    "        next_states = torch.FloatTensor(next_states)\n",
    "\n",
    "        curr_Q = self.policy_net.forward(states).gather(1,actions.unsqueeze(1)) # calculate the current Q(s,a) estimates\n",
    "        next_Q = self.target_net.forward(next_states) # calculate Q'(s,a) (EV)\n",
    "        max_next_Q = torch.max(next_Q,1)[0] # equivalent of taking a greedy action\n",
    "        expected_Q = rewards + self.gamma * max_next_Q # Calculate total Q(s,a)\n",
    "        \n",
    "        loss = self.huber_loss(curr_Q, expected_Q.unsqueeze(1)) # unsqueeze is really important here to match dims!\n",
    "        return loss"
   ]
  },
  {
   "cell_type": "code",
   "execution_count": 6,
   "metadata": {},
   "outputs": [],
   "source": [
    "class DeepRLInterface():\n",
    "    def __init__(self,agent,environment):\n",
    "        self.agent = agent\n",
    "        self.env = environment\n",
    "        self.rewlist = []\n",
    "        self.batch_size = 50 # sample 50 experiences when we update\n",
    "\n",
    "    def step(self): # same process as above\n",
    "        state = env.state.copy()\n",
    "        action = self.agent.select_action(state) # agent selects action\n",
    "        rew = self.env.execute_action(action) # execute agent action into the environment\n",
    "        new_state = env.state.copy() \n",
    "        if not np.all(rl.env.state == rl.env.terminal_state): # don't add terminal states to replay buffer\n",
    "            self.agent.replay_buffer.push(state,action,new_state,rew)\n",
    "        \n",
    "        loss = self.agent.update(self.batch_size)\n",
    "        self.losslist.append(loss) # append loss to assess performance over time\n",
    "        return state,action,rew,new_state\n",
    "    \n",
    "    def runTrials(self,nTrials):\n",
    "        counter = 0 # for batch training\n",
    "        self.clist = []\n",
    "        self.rewlist = []\n",
    "        self.losslist = []\n",
    "        self.eps = []\n",
    "        for i in range(nTrials):\n",
    "            env.reset()\n",
    "            total_rew = 0\n",
    "            tstates,tactions,trews,tnewstates = [] , [] , [] , [] # accumulate states to debug\n",
    "            while not self.env.game_over: # while the game is not over, keep taking actions\n",
    "                state,action,rew,new_state = self.step()\n",
    "                total_rew += rew\n",
    "                \n",
    "                tstates.append(state)\n",
    "                tactions.append(action)\n",
    "                trews.append(rew)\n",
    "                tnewstates.append(tnewstates)\n",
    "                counter += 1\n",
    "                \n",
    "            self.rewlist.append(total_rew)\n",
    "    \n",
    "            if counter % self.agent.target_update == 0: # update the target network\n",
    "                self.agent.target_net.load_state_dict(self.agent.policy_net.state_dict())\n",
    "            # update agent epsilon\n",
    "            self.agent.epsilon = (self.agent.eps_end + (self.agent.eps_start - self.agent.eps_end) * \n",
    "                                                        np.exp(-1. * counter / self.agent.eps_decay))\n",
    "            self.eps.append(self.agent.epsilon)"
   ]
  },
  {
   "cell_type": "code",
   "execution_count": 11,
   "metadata": {},
   "outputs": [],
   "source": [
    "board_size = 4\n",
    "agent = DeepAgent(board_size)\n",
    "env = Environment(board_size)\n",
    "rl = DeepRLInterface(agent,env)\n",
    "\n",
    "rl.runTrials(500)"
   ]
  },
  {
   "cell_type": "code",
   "execution_count": 12,
   "metadata": {},
   "outputs": [
    {
     "data": {
      "text/plain": [
       "[<matplotlib.lines.Line2D at 0x20b2051be48>]"
      ]
     },
     "execution_count": 12,
     "metadata": {},
     "output_type": "execute_result"
    },
    {
     "data": {
      "image/png": "[encoded data removed]",
      "text/plain": [
       "<Figure size 432x288 with 1 Axes>"
      ]
     },
     "metadata": {
      "needs_background": "light"
     },
     "output_type": "display_data"
    },
    {
     "data": {
      "image/png": "[encoded data removed]",
      "text/plain": [
       "<Figure size 432x288 with 1 Axes>"
      ]
     },
     "metadata": {
      "needs_background": "light"
     },
     "output_type": "display_data"
    }
   ],
   "source": [
    "plt.title('Batch Loss')\n",
    "plt.plot(rl.losslist)\n",
    "plt.xlabel('Timestep')\n",
    "plt.ylabel('Loss')\n",
    "plt.figure()\n",
    "plt.title('Game Rewards')\n",
    "plt.xlabel('Game')\n",
    "plt.ylabel('Accumulated Reward')\n",
    "plt.plot(rl.rewlist)"
   ]
  },
  {
   "cell_type": "code",
   "execution_count": null,
   "metadata": {},
   "outputs": [],
   "source": []
  },
  {
   "cell_type": "code",
   "execution_count": null,
   "metadata": {},
   "outputs": [],
   "source": []
  }
 ],
 "metadata": {
  "kernelspec": {
   "display_name": "Python 3",
   "language": "python",
   "name": "python3"
  },
  "language_info": {
   "codemirror_mode": {
    "name": "ipython",
    "version": 3
   },
   "file_extension": ".py",
   "mimetype": "text/x-python",
   "name": "python",
   "nbconvert_exporter": "python",
   "pygments_lexer": "ipython3",
   "version": "3.7.9"
  }
 },
 "nbformat": 4,
 "nbformat_minor": 4
}
