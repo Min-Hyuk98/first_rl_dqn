{
 "cells": [
  {
   "cell_type": "code",
   "execution_count": 51,
   "metadata": {},
   "outputs": [],
   "source": [
    "import numpy as np\n",
    "from numpy import random as rnd\n",
    "import random\n",
    "from matplotlib import pyplot as plt\n",
    "import torch\n",
    "import torch.nn"
   ]
  },
  {
   "cell_type": "code",
   "execution_count": 52,
   "metadata": {},
   "outputs": [],
   "source": [
    "class Environment():\n",
    "    \"\"\"\n",
    "        A generalizable class for board environments for Qlearning agents\n",
    "    \"\"\"\n",
    "    board = None\n",
    "    board_size = 0\n",
    "    def __init__(self, board_size=4):\n",
    "        self.board_size = board_size\n",
    "        self.game_over = False\n",
    "        self.terminal_state = np.ones(4).astype(int)\n",
    "        self.reset()\n",
    "    \n",
    "    def reset(self): # new game\n",
    "        self.state = np.zeros(self.board_size).astype(int) # [0,0,0,0,...0]: an empty board\n",
    "        self.game_over = False\n",
    "    \n",
    "    def execute_action(self, action): # execute the agent's action\n",
    "        if self.state[action] == 0:\n",
    "            self.state[action] = 1\n",
    "            self.game_over = (len(np.where(self.state == 0)[0]) == 0)\n",
    "            return 1\n",
    "        else:\n",
    "            return -1"
   ]
  },
  {
   "cell_type": "code",
   "execution_count": 53,
   "metadata": {},
   "outputs": [],
   "source": [
    "class Agent():\n",
    "    \"\"\"\n",
    "        A generalizable calss for Q learning agents in our game environment\n",
    "    \"\"\"\n",
    "    def __init__(self, board_size): \n",
    "        # this qdim definition looks a bit hairy, but is just saying we want a qtable w/ dimensions like [2,2,2,2,4]\n",
    "        # meaning that there are boardsize binary states and boardsize actions we can take in the last index\n",
    "        qdim = tuple([2] * board_size) + (board_size,) \n",
    "        self.Q = np.zeros(qdim) # just make 4x1 games for now: 4 actions per 2^4 possible game states\n",
    "        self.epsilon = .9 # exploration rate\n",
    "        self.gamma = .9 # discount\n",
    "        self.lr = .1 # learning rate\n",
    "        \n",
    "    def select_action(self,state):\n",
    "        if rnd.rand() < self.epsilon: # take a greedy action \n",
    "            return np.argmax(self.Q[tuple(state)])\n",
    "        else:\n",
    "            return random.choice(list(range(board_size))) # take a random action\n",
    "        \n",
    "    def greedy_action(self,state):\n",
    "        return np.argmax(self.Q[tuple(state)])\n",
    "    \n",
    "    def update(self,old_state,new_state,action,reward):\n",
    "        q_old = self.Q[tuple(old_state) + (action,)] # Old Q value\n",
    "        future_action = self.greedy_action(new_state) # Select next best action\n",
    "        \n",
    "        EV_new = self.Q[tuple(new_state) + (future_action,)] # What is reward for the best next action?\n",
    "        \n",
    "        if sum(new_state) == board_size:\n",
    "            EV_new = 0 # we are in a terminal state, so EV not a meaningful value\n",
    "        \n",
    "        rpe = self.lr * (reward + self.gamma * EV_new - q_old)\n",
    "            \n",
    "        self.Q[tuple(old_state) + (action,)] += rpe # update"
   ]
  },
  {
   "cell_type": "code",
   "execution_count": 54,
   "metadata": {},
   "outputs": [],
   "source": [
    "class RLInterface():\n",
    "    \"\"\"\n",
    "        A class that brings the Qlearning agent together with its environment \n",
    "    \"\"\"\n",
    "    def __init__(self,agent,environment):\n",
    "        self.agent = agent\n",
    "        self.env = environment\n",
    "        self.rewlist = [] # rewawrd\n",
    "\n",
    "    def step(self): # advance one timestep\n",
    "        old_state = env.state.copy() # take a copy of the agent's current state\n",
    "        # old_state = [0 0 0 0] or [0 0 0 1] or [1 0 1 0] or ...\n",
    "        \n",
    "        action = self.agent.select_action(old_state) # agent selects action\n",
    "        rew = self.env.execute_action(action) # execute agent action into the environment\n",
    "        new_state = env.state.copy() # find out what state this brought us to for new expected value approximation\n",
    "        \n",
    "        rpe = self.agent.update(old_state,new_state,action,rew) # update Q\n",
    "        \n",
    "        return rew\n",
    "    \n",
    "    def runTrials(self,nTrials): # run the agent and environment through nTrials games\n",
    "        for i in range(nTrials):\n",
    "            env.reset()\n",
    "            total_rew = 0\n",
    "            while not self.env.game_over:\n",
    "                rew = self.step()\n",
    "                total_rew += rew\n",
    "            self.rewlist.append(total_rew)"
   ]
  },
  {
   "cell_type": "code",
   "execution_count": 55,
   "metadata": {},
   "outputs": [
    {
     "data": {
      "text/plain": [
       "[<matplotlib.lines.Line2D at 0x23088b80048>]"
      ]
     },
     "execution_count": 55,
     "metadata": {},
     "output_type": "execute_result"
    },
    {
     "data": {
      "image/png": "[encoded data removed]",
      "text/plain": [
       "<Figure size 432x288 with 1 Axes>"
      ]
     },
     "metadata": {
      "needs_background": "light"
     },
     "output_type": "display_data"
    }
   ],
   "source": [
    "board_size = 4 # default board size is 4\n",
    "agent = Agent(board_size)\n",
    "env = Environment(board_size)\n",
    "rl = RLInterface(agent,env) # give the interface an agent and environment to bring together\n",
    "\n",
    "rl.runTrials(1000)\n",
    "plt.title('Reward Over time')\n",
    "plt.xlabel('Game Number')\n",
    "plt.ylabel('Rewards Received in Game')\n",
    "plt.plot(rl.rewlist)"
   ]
  },
  {
   "cell_type": "code",
   "execution_count": null,
   "metadata": {},
   "outputs": [],
   "source": []
  }
 ],
 "metadata": {
  "kernelspec": {
   "display_name": "Python 3",
   "language": "python",
   "name": "python3"
  },
  "language_info": {
   "codemirror_mode": {
    "name": "ipython",
    "version": 3
   },
   "file_extension": ".py",
   "mimetype": "text/x-python",
   "name": "python",
   "nbconvert_exporter": "python",
   "pygments_lexer": "ipython3",
   "version": "3.7.9"
  }
 },
 "nbformat": 4,
 "nbformat_minor": 4
}
